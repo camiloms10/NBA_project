{
 "cells": [
  {
   "cell_type": "code",
   "execution_count": 20,
   "metadata": {},
   "outputs": [],
   "source": [
    "import numpy\n",
    "import seaborn as sns\n",
    "import matplotlib as plt\n",
    "import pandas as pd"
   ]
  },
  {
   "cell_type": "code",
   "execution_count": 21,
   "metadata": {},
   "outputs": [
    {
     "name": "stdout",
     "output_type": "stream",
     "text": [
      "                Player Pos  Age   Tm   G  GS    MP   FG   FGA    FG%  ...  \\\n",
      "Rk                                                                    ...   \n",
      "1     Precious Achiuwa   C   22  TOR  34  20  25.3  3.4   8.1  0.412  ...   \n",
      "2         Steven Adams   C   28  MEM  44  43  25.7  2.6   4.9  0.521  ...   \n",
      "3          Bam Adebayo   C   24  MIA  21  21  32.9  6.9  13.3  0.518  ...   \n",
      "4         Santi Aldama  PF   21  MEM  25   0  10.5  1.4   3.8  0.372  ...   \n",
      "5    LaMarcus Aldridge   C   36  BRK  32  10  23.1  5.9  10.3  0.574  ...   \n",
      "..                 ...  ..  ...  ...  ..  ..   ...  ...   ...    ...  ...   \n",
      "586     Thaddeus Young  PF   33  SAS  24   0  13.9  2.7   4.8  0.560  ...   \n",
      "587         Trae Young  PG   23  ATL  41  41  34.8  9.3  20.5  0.455  ...   \n",
      "588     Omer Yurtseven   C   23  MIA  36  10  15.1  2.7   5.2  0.521  ...   \n",
      "589        Cody Zeller   C   29  POR  27   0  13.1  1.9   3.3  0.567  ...   \n",
      "590        Ivica Zubac   C   24  LAC  43  43  24.6  3.8   5.7  0.675  ...   \n",
      "\n",
      "       FT%  ORB  DRB   TRB  AST  STL  BLK  TOV   PF   PTS  \n",
      "Rk                                                         \n",
      "1    0.574  2.4  5.3   7.7  1.3  0.6  0.6  1.1  2.2   7.9  \n",
      "2    0.566  4.3  4.9   9.3  3.0  1.0  0.6  1.6  1.7   6.7  \n",
      "3    0.767  2.6  7.3  10.0  3.2  1.2  0.5  2.9  3.1  18.7  \n",
      "4    0.579  0.9  1.6   2.5  0.5  0.1  0.2  0.3  0.9   3.4  \n",
      "5    0.862  1.5  4.1   5.7  0.9  0.4  1.1  0.8  1.7  13.8  \n",
      "..     ...  ...  ...   ...  ...  ...  ...  ...  ...   ...  \n",
      "586  0.450  1.4  2.0   3.4  2.3  0.8  0.3  1.1  1.4   5.8  \n",
      "587  0.901  0.7  3.3   4.0  9.4  1.0  0.1  4.2  1.6  27.9  \n",
      "588  0.640  1.8  4.6   6.4  1.1  0.4  0.5  0.9  1.8   6.4  \n",
      "589  0.776  1.9  2.8   4.6  0.8  0.3  0.2  0.7  2.1   5.2  \n",
      "590  0.754  2.8  5.3   8.1  1.2  0.5  1.0  1.3  2.5   9.8  \n",
      "\n",
      "[590 rows x 29 columns]\n"
     ]
    }
   ],
   "source": [
    "df = pd.read_csv ('2021-2022 NBA Player Stats.csv', index_col=0, delimiter=';', encoding='latin-1')\n",
    "print(df)"
   ]
  },
  {
   "cell_type": "code",
   "execution_count": 22,
   "metadata": {},
   "outputs": [
    {
     "name": "stdout",
     "output_type": "stream",
     "text": [
      "           Age         G        GS        MP        FG       FGA       FG%  \\\n",
      "Age   1.000000  0.128341  0.131980  0.221233  0.165827  0.154383  0.092885   \n",
      "G     0.128341  1.000000  0.646799  0.700717  0.609406  0.590730  0.299430   \n",
      "GS    0.131980  0.646799  1.000000  0.806669  0.773122  0.750591  0.215088   \n",
      "MP    0.221233  0.700717  0.806669  1.000000  0.889476  0.893356  0.272768   \n",
      "FG    0.165827  0.609406  0.773122  0.889476  1.000000  0.971504  0.325402   \n",
      "FGA   0.154383  0.590730  0.750591  0.893356  0.971504  1.000000  0.182327   \n",
      "FG%   0.092885  0.299430  0.215088  0.272768  0.325402  0.182327  1.000000   \n",
      "3P    0.182497  0.526833  0.563201  0.731145  0.693463  0.775834  0.052145   \n",
      "3PA   0.158738  0.513162  0.562943  0.735600  0.697697  0.804997 -0.020798   \n",
      "3P%   0.143108  0.407063  0.226017  0.419612  0.358251  0.371684  0.192307   \n",
      "2P    0.122902  0.521443  0.711587  0.779258  0.937739  0.861892  0.388863   \n",
      "2PA   0.117384  0.513454  0.713778  0.804143  0.944854  0.912708  0.281859   \n",
      "2P%   0.082278  0.288452  0.177302  0.247014  0.275600  0.162596  0.854685   \n",
      "eFG%  0.123280  0.359145  0.235077  0.339354  0.351028  0.232941  0.960202   \n",
      "FT    0.125903  0.458665  0.638151  0.701161  0.827368  0.805508  0.208135   \n",
      "FTA   0.109886  0.471758  0.649289  0.696998  0.824400  0.788695  0.234876   \n",
      "FT%   0.076951  0.572166  0.333448  0.531351  0.455151  0.463102  0.242218   \n",
      "ORB   0.075111  0.344774  0.403892  0.390785  0.376613  0.265908  0.349670   \n",
      "DRB   0.178283  0.583632  0.710669  0.773521  0.762972  0.701693  0.328593   \n",
      "TRB   0.160124  0.555351  0.672562  0.716577  0.704390  0.622779  0.361783   \n",
      "AST   0.219252  0.468529  0.633369  0.730348  0.736487  0.766635  0.096874   \n",
      "STL   0.137869  0.500614  0.575510  0.717759  0.624447  0.639769  0.166240   \n",
      "BLK   0.075079  0.359367  0.442553  0.454196  0.420379  0.338939  0.330333   \n",
      "TOV   0.124258  0.507000  0.691862  0.756354  0.821922  0.830715  0.177221   \n",
      "PF    0.183054  0.525393  0.584634  0.752311  0.642726  0.613887  0.327895   \n",
      "PTS   0.170514  0.609236  0.769355  0.890541  0.991264  0.977566  0.286218   \n",
      "\n",
      "            3P       3PA       3P%  ...       FT%       ORB       DRB  \\\n",
      "Age   0.182497  0.158738  0.143108  ...  0.076951  0.075111  0.178283   \n",
      "G     0.526833  0.513162  0.407063  ...  0.572166  0.344774  0.583632   \n",
      "GS    0.563201  0.562943  0.226017  ...  0.333448  0.403892  0.710669   \n",
      "MP    0.731145  0.735600  0.419612  ...  0.531351  0.390785  0.773521   \n",
      "FG    0.693463  0.697697  0.358251  ...  0.455151  0.376613  0.762972   \n",
      "FGA   0.775834  0.804997  0.371684  ...  0.463102  0.265908  0.701693   \n",
      "FG%   0.052145 -0.020798  0.192307  ...  0.242218  0.349670  0.328593   \n",
      "3P    1.000000  0.972948  0.539343  ...  0.447942 -0.073561  0.395130   \n",
      "3PA   0.972948  1.000000  0.458470  ...  0.440897 -0.091839  0.401520   \n",
      "3P%   0.539343  0.458470  1.000000  ...  0.443594 -0.014148  0.219419   \n",
      "2P    0.400702  0.418683  0.197253  ...  0.363161  0.513472  0.780269   \n",
      "2PA   0.468242  0.492439  0.230042  ...  0.375776  0.453439  0.752675   \n",
      "2P%   0.079184  0.053684  0.100479  ...  0.234151  0.236722  0.269080   \n",
      "eFG%  0.228528  0.140413  0.386847  ...  0.320783  0.260712  0.318466   \n",
      "FT    0.474494  0.499296  0.212481  ...  0.447452  0.326049  0.687535   \n",
      "FTA   0.427317  0.449801  0.193237  ...  0.408592  0.394398  0.723282   \n",
      "FT%   0.447942  0.440897  0.443594  ...  1.000000  0.142190  0.382776   \n",
      "ORB  -0.073561 -0.091839 -0.014148  ...  0.142190  1.000000  0.654020   \n",
      "DRB   0.395130  0.401520  0.219419  ...  0.382776  0.654020  1.000000   \n",
      "TRB   0.282018  0.281129  0.165540  ...  0.339075  0.812069  0.972350   \n",
      "AST   0.556160  0.589794  0.249066  ...  0.372000  0.125118  0.544669   \n",
      "STL   0.504104  0.522881  0.241428  ...  0.382432  0.241147  0.545109   \n",
      "BLK   0.100673  0.095987  0.025462  ...  0.179465  0.632411  0.612986   \n",
      "TOV   0.561728  0.598340  0.231307  ...  0.372472  0.307354  0.676302   \n",
      "PF    0.406089  0.406059  0.287400  ...  0.411004  0.548216  0.683234   \n",
      "PTS   0.738639  0.743225  0.377642  ...  0.483745  0.329925  0.749252   \n",
      "\n",
      "           TRB       AST       STL       BLK       TOV        PF       PTS  \n",
      "Age   0.160124  0.219252  0.137869  0.075079  0.124258  0.183054  0.170514  \n",
      "G     0.555351  0.468529  0.500614  0.359367  0.507000  0.525393  0.609236  \n",
      "GS    0.672562  0.633369  0.575510  0.442553  0.691862  0.584634  0.769355  \n",
      "MP    0.716577  0.730348  0.717759  0.454196  0.756354  0.752311  0.890541  \n",
      "FG    0.704390  0.736487  0.624447  0.420379  0.821922  0.642726  0.991264  \n",
      "FGA   0.622779  0.766635  0.639769  0.338939  0.830715  0.613887  0.977566  \n",
      "FG%   0.361783  0.096874  0.166240  0.330333  0.177221  0.327895  0.286218  \n",
      "3P    0.282018  0.556160  0.504104  0.100673  0.561728  0.406089  0.738639  \n",
      "3PA   0.281129  0.589794  0.522881  0.095987  0.598340  0.406059  0.743225  \n",
      "3P%   0.165540  0.249066  0.241428  0.025462  0.231307  0.287400  0.377642  \n",
      "2P    0.759914  0.668709  0.551551  0.485735  0.774033  0.621928  0.904923  \n",
      "2PA   0.719895  0.718776  0.578466  0.431017  0.806517  0.620767  0.922369  \n",
      "2P%   0.280730  0.084224  0.153479  0.243083  0.153586  0.291669  0.242957  \n",
      "eFG%  0.326816  0.123733  0.196968  0.283072  0.183906  0.338366  0.327345  \n",
      "FT    0.630291  0.674684  0.504689  0.359993  0.770693  0.525511  0.870547  \n",
      "FTA   0.678999  0.656135  0.500097  0.404617  0.769416  0.546876  0.859088  \n",
      "FT%   0.339075  0.372000  0.382432  0.179465  0.372472  0.411004  0.483745  \n",
      "ORB   0.812069  0.125118  0.241147  0.632411  0.307354  0.548216  0.329925  \n",
      "DRB   0.972350  0.544669  0.545109  0.612986  0.676302  0.683234  0.749252  \n",
      "TRB   1.000000  0.458429  0.494523  0.666842  0.615736  0.695324  0.679346  \n",
      "AST   0.458429  1.000000  0.665194  0.175573  0.832347  0.456814  0.749477  \n",
      "STL   0.494523  0.665194  1.000000  0.363649  0.621456  0.585522  0.626843  \n",
      "BLK   0.666842  0.175573  0.363649  1.000000  0.329188  0.533999  0.392864  \n",
      "TOV   0.615736  0.832347  0.621456  0.329188  1.000000  0.564815  0.831986  \n",
      "PF    0.695324  0.456814  0.585522  0.533999  0.564815  1.000000  0.630680  \n",
      "PTS   0.679346  0.749477  0.626843  0.392864  0.831986  0.630680  1.000000  \n",
      "\n",
      "[26 rows x 26 columns]\n"
     ]
    }
   ],
   "source": [
    "corrM = df.corr()\n",
    "print(corrM)"
   ]
  },
  {
   "cell_type": "code",
   "execution_count": 25,
   "metadata": {},
   "outputs": [
    {
     "data": {
      "text/plain": [
       "<AxesSubplot:>"
      ]
     },
     "execution_count": 25,
     "metadata": {},
     "output_type": "execute_result"
    },
    {
     "data": {
      "image/png": "[encoded data removed]",
      "text/plain": [
       "<Figure size 432x288 with 2 Axes>"
      ]
     },
     "metadata": {
      "needs_background": "light"
     },
     "output_type": "display_data"
    }
   ],
   "source": [
    "sns.heatmap(corrM)\n",
    "##plt.show()"
   ]
  }
 ],
 "metadata": {
  "interpreter": {
   "hash": "3980df123be1cb6a82c2f412acd87b3b21fbf79126fb97188a0f6ee3e794d1bc"
  },
  "kernelspec": {
   "display_name": "Python 3.9.10 64-bit (windows store)",
   "language": "python",
   "name": "python3"
  },
  "language_info": {
   "codemirror_mode": {
    "name": "ipython",
    "version": 3
   },
   "file_extension": ".py",
   "mimetype": "text/x-python",
   "name": "python",
   "nbconvert_exporter": "python",
   "pygments_lexer": "ipython3",
   "version": "3.9.10"
  },
  "orig_nbformat": 4
 },
 "nbformat": 4,
 "nbformat_minor": 2
}
