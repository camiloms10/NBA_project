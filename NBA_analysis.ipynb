{
 "cells": [
  {
   "cell_type": "code",
   "execution_count": 20,
   "metadata": {},
   "outputs": [],
   "source": [
    "import numpy\n",
    "import seaborn as sns\n",
    "import matplotlib as plt\n",
    "import pandas as pd"
   ]
  },
  {
   "cell_type": "code",
   "execution_count": 27,
   "metadata": {},
   "outputs": [
    {
     "name": "stdout",
     "output_type": "stream",
     "text": [
      "                GAME_ID GAME_STATUS_TEXT  HOME_TEAM_ID  VISITOR_TEAM_ID  \\\n",
      "GAME_DATE_EST                                                             \n",
      "2021-11-17     22100213            Final    1610612766       1610612764   \n",
      "2021-11-17     22100214            Final    1610612765       1610612754   \n",
      "2021-11-17     22100215            Final    1610612737       1610612738   \n",
      "2021-11-17     22100216            Final    1610612751       1610612739   \n",
      "2021-11-17     22100217            Final    1610612748       1610612740   \n",
      "...                 ...              ...           ...              ...   \n",
      "2014-10-06     11400007            Final    1610612737       1610612740   \n",
      "2014-10-06     11400004            Final    1610612741       1610612764   \n",
      "2014-10-06     11400005            Final    1610612747       1610612743   \n",
      "2014-10-05     11400002            Final    1610612761       1610612758   \n",
      "2014-10-04     11400001            Final    1610612748       1610612740   \n",
      "\n",
      "               SEASON  TEAM_ID_home  PTS_home  FG_PCT_home  FT_PCT_home  \\\n",
      "GAME_DATE_EST                                                             \n",
      "2021-11-17       2021    1610612766      97.0        0.438        0.500   \n",
      "2021-11-17       2021    1610612765      97.0        0.425        0.750   \n",
      "2021-11-17       2021    1610612737     110.0        0.506        0.833   \n",
      "2021-11-17       2021    1610612751     109.0        0.458        0.840   \n",
      "2021-11-17       2021    1610612748     113.0        0.483        0.824   \n",
      "...               ...           ...       ...          ...          ...   \n",
      "2014-10-06       2014    1610612737      93.0        0.419        0.821   \n",
      "2014-10-06       2014    1610612741      81.0        0.338        0.719   \n",
      "2014-10-06       2014    1610612747      98.0        0.448        0.682   \n",
      "2014-10-05       2014    1610612761      99.0        0.440        0.771   \n",
      "2014-10-04       2014    1610612748      86.0        0.431        0.679   \n",
      "\n",
      "               FG3_PCT_home  AST_home  REB_home  TEAM_ID_away  PTS_away  \\\n",
      "GAME_DATE_EST                                                             \n",
      "2021-11-17            0.313      30.0      59.0    1610612764      87.0   \n",
      "2021-11-17            0.286      16.0      42.0    1610612754      89.0   \n",
      "2021-11-17            0.351      28.0      40.0    1610612738      99.0   \n",
      "2021-11-17            0.375      29.0      47.0    1610612739      99.0   \n",
      "2021-11-17            0.375      29.0      39.0    1610612740      98.0   \n",
      "...                     ...       ...       ...           ...       ...   \n",
      "2014-10-06            0.421      24.0      50.0    1610612740      87.0   \n",
      "2014-10-06            0.381      18.0      40.0    1610612764      85.0   \n",
      "2014-10-06            0.500      29.0      45.0    1610612743      95.0   \n",
      "2014-10-05            0.333      21.0      30.0    1610612758      94.0   \n",
      "2014-10-04            0.333      18.0      42.0    1610612740      98.0   \n",
      "\n",
      "               FG_PCT_away  FT_PCT_away  FG3_PCT_away  AST_away  REB_away  \\\n",
      "GAME_DATE_EST                                                               \n",
      "2021-11-17           0.367        0.813         0.190      23.0      48.0   \n",
      "2021-11-17           0.418        0.737         0.243      14.0      43.0   \n",
      "2021-11-17           0.440        0.824         0.268      24.0      42.0   \n",
      "2021-11-17           0.393        0.857         0.250      20.0      50.0   \n",
      "2021-11-17           0.440        0.786         0.286      18.0      38.0   \n",
      "...                    ...          ...           ...       ...       ...   \n",
      "2014-10-06           0.366        0.643         0.375      17.0      43.0   \n",
      "2014-10-06           0.411        0.636         0.267      17.0      47.0   \n",
      "2014-10-06           0.387        0.659         0.500      19.0      43.0   \n",
      "2014-10-05           0.469        0.725         0.385      18.0      45.0   \n",
      "2014-10-04           0.462        0.706         0.438      19.0      42.0   \n",
      "\n",
      "               HOME_TEAM_WINS  \n",
      "GAME_DATE_EST                  \n",
      "2021-11-17                  1  \n",
      "2021-11-17                  1  \n",
      "2021-11-17                  1  \n",
      "2021-11-17                  1  \n",
      "2021-11-17                  1  \n",
      "...                       ...  \n",
      "2014-10-06                  1  \n",
      "2014-10-06                  0  \n",
      "2014-10-06                  1  \n",
      "2014-10-05                  1  \n",
      "2014-10-04                  0  \n",
      "\n",
      "[25024 rows x 20 columns]\n"
     ]
    }
   ],
   "source": [
    "df = pd.read_csv ('games.csv', index_col=0, delimiter=',', encoding='latin-1')\n",
    "print(df)"
   ]
  },
  {
   "cell_type": "code",
   "execution_count": 28,
   "metadata": {},
   "outputs": [
    {
     "name": "stdout",
     "output_type": "stream",
     "text": [
      "                  GAME_ID  HOME_TEAM_ID  VISITOR_TEAM_ID    SEASON  \\\n",
      "GAME_ID          1.000000     -0.026778        -0.031991  0.096227   \n",
      "HOME_TEAM_ID    -0.026778      1.000000        -0.046470  0.000090   \n",
      "VISITOR_TEAM_ID -0.031991     -0.046470         1.000000  0.001328   \n",
      "SEASON           0.096227      0.000090         0.001328  1.000000   \n",
      "TEAM_ID_home    -0.026778      1.000000        -0.046470  0.000090   \n",
      "PTS_home         0.033062     -0.025005        -0.004303  0.333649   \n",
      "FG_PCT_home      0.018480     -0.006245         0.033923  0.037460   \n",
      "FT_PCT_home      0.036484     -0.007289         0.004885  0.061178   \n",
      "FG3_PCT_home    -0.003999      0.003980         0.017149  0.027518   \n",
      "AST_home        -0.033969     -0.099747         0.015960  0.180489   \n",
      "REB_home        -0.006853     -0.028547        -0.007341  0.161286   \n",
      "TEAM_ID_away    -0.031991     -0.046470         1.000000  0.001328   \n",
      "PTS_away         0.002566     -0.009416        -0.034333  0.365511   \n",
      "FG_PCT_away      0.005448      0.022078        -0.024162  0.068537   \n",
      "FT_PCT_away      0.033618      0.015452        -0.016274  0.063356   \n",
      "FG3_PCT_away    -0.002696      0.015390        -0.022226  0.020911   \n",
      "AST_away        -0.044510     -0.070137        -0.011707  0.240902   \n",
      "REB_away        -0.025402     -0.029572        -0.012395  0.195199   \n",
      "HOME_TEAM_WINS   0.031098     -0.021055         0.030147 -0.024923   \n",
      "\n",
      "                 TEAM_ID_home  PTS_home  FG_PCT_home  FT_PCT_home  \\\n",
      "GAME_ID             -0.026778  0.033062     0.018480     0.036484   \n",
      "HOME_TEAM_ID         1.000000 -0.025005    -0.006245    -0.007289   \n",
      "VISITOR_TEAM_ID     -0.046470 -0.004303     0.033923     0.004885   \n",
      "SEASON               0.000090  0.333649     0.037460     0.061178   \n",
      "TEAM_ID_home         1.000000 -0.025005    -0.006245    -0.007289   \n",
      "PTS_home            -0.025005  1.000000     0.661914     0.182789   \n",
      "FG_PCT_home         -0.006245  0.661914     1.000000     0.017738   \n",
      "FT_PCT_home         -0.007289  0.182789     0.017738     1.000000   \n",
      "FG3_PCT_home         0.003980  0.424088     0.448307     0.027616   \n",
      "AST_home            -0.099747  0.597182     0.548760     0.016702   \n",
      "REB_home            -0.028547  0.160671    -0.191130    -0.053931   \n",
      "TEAM_ID_away        -0.046470 -0.004303     0.033923     0.004885   \n",
      "PTS_away            -0.009416  0.482191     0.115450     0.074022   \n",
      "FG_PCT_away          0.022078  0.128406     0.041238     0.046621   \n",
      "FT_PCT_away          0.015452  0.070174     0.031214     0.035518   \n",
      "FG3_PCT_away         0.015390  0.058298     0.015752     0.021804   \n",
      "AST_away            -0.070137  0.203546     0.013490     0.028945   \n",
      "REB_away            -0.029572 -0.141043    -0.465233    -0.114886   \n",
      "HOME_TEAM_WINS      -0.021055  0.401620     0.432523     0.091948   \n",
      "\n",
      "                 FG3_PCT_home  AST_home  REB_home  TEAM_ID_away  PTS_away  \\\n",
      "GAME_ID             -0.003999 -0.033969 -0.006853     -0.031991  0.002566   \n",
      "HOME_TEAM_ID         0.003980 -0.099747 -0.028547     -0.046470 -0.009416   \n",
      "VISITOR_TEAM_ID      0.017149  0.015960 -0.007341      1.000000 -0.034333   \n",
      "SEASON               0.027518  0.180489  0.161286      0.001328  0.365511   \n",
      "TEAM_ID_home         0.003980 -0.099747 -0.028547     -0.046470 -0.009416   \n",
      "PTS_home             0.424088  0.597182  0.160671     -0.004303  0.482191   \n",
      "FG_PCT_home          0.448307  0.548760 -0.191130      0.033923  0.115450   \n",
      "FT_PCT_home          0.027616  0.016702 -0.053931      0.004885  0.074022   \n",
      "FG3_PCT_home         1.000000  0.352734 -0.088833      0.017149  0.049621   \n",
      "AST_home             0.352734  1.000000  0.062335      0.015960  0.178877   \n",
      "REB_home            -0.088833  0.062335  1.000000     -0.007341 -0.152151   \n",
      "TEAM_ID_away         0.017149  0.015960 -0.007341      1.000000 -0.034333   \n",
      "PTS_away             0.049621  0.178877 -0.152151     -0.034333  1.000000   \n",
      "FG_PCT_away          0.010071  0.005762 -0.473276     -0.024162  0.668619   \n",
      "FT_PCT_away          0.015713  0.026437 -0.115355     -0.016274  0.202009   \n",
      "FG3_PCT_away        -0.000405 -0.006848 -0.204269     -0.022226  0.409303   \n",
      "AST_away            -0.000583  0.140302 -0.100162     -0.011707  0.585310   \n",
      "REB_away            -0.200306 -0.110252  0.068808     -0.012395  0.174392   \n",
      "HOME_TEAM_WINS       0.299046  0.304744  0.244625      0.030147 -0.413944   \n",
      "\n",
      "                 FG_PCT_away  FT_PCT_away  FG3_PCT_away  AST_away  REB_away  \\\n",
      "GAME_ID             0.005448     0.033618     -0.002696 -0.044510 -0.025402   \n",
      "HOME_TEAM_ID        0.022078     0.015452      0.015390 -0.070137 -0.029572   \n",
      "VISITOR_TEAM_ID    -0.024162    -0.016274     -0.022226 -0.011707 -0.012395   \n",
      "SEASON              0.068537     0.063356      0.020911  0.240902  0.195199   \n",
      "TEAM_ID_home        0.022078     0.015452      0.015390 -0.070137 -0.029572   \n",
      "PTS_home            0.128406     0.070174      0.058298  0.203546 -0.141043   \n",
      "FG_PCT_home         0.041238     0.031214      0.015752  0.013490 -0.465233   \n",
      "FT_PCT_home         0.046621     0.035518      0.021804  0.028945 -0.114886   \n",
      "FG3_PCT_home        0.010071     0.015713     -0.000405 -0.000583 -0.200306   \n",
      "AST_home            0.005762     0.026437     -0.006848  0.140302 -0.110252   \n",
      "REB_home           -0.473276    -0.115355     -0.204269 -0.100162  0.068808   \n",
      "TEAM_ID_away       -0.024162    -0.016274     -0.022226 -0.011707 -0.012395   \n",
      "PTS_away            0.668619     0.202009      0.409303  0.585310  0.174392   \n",
      "FG_PCT_away         1.000000     0.037426      0.432897  0.522510 -0.172635   \n",
      "FT_PCT_away         0.037426     1.000000      0.031712  0.027023 -0.038645   \n",
      "FG3_PCT_away        0.432897     0.031712      1.000000  0.319428 -0.094978   \n",
      "AST_away            0.522510     0.027023      0.319428  1.000000  0.066992   \n",
      "REB_away           -0.172635    -0.038645     -0.094978  0.066992  1.000000   \n",
      "HOME_TEAM_WINS     -0.434866    -0.106305     -0.288316 -0.293454 -0.251834   \n",
      "\n",
      "                 HOME_TEAM_WINS  \n",
      "GAME_ID                0.031098  \n",
      "HOME_TEAM_ID          -0.021055  \n",
      "VISITOR_TEAM_ID        0.030147  \n",
      "SEASON                -0.024923  \n",
      "TEAM_ID_home          -0.021055  \n",
      "PTS_home               0.401620  \n",
      "FG_PCT_home            0.432523  \n",
      "FT_PCT_home            0.091948  \n",
      "FG3_PCT_home           0.299046  \n",
      "AST_home               0.304744  \n",
      "REB_home               0.244625  \n",
      "TEAM_ID_away           0.030147  \n",
      "PTS_away              -0.413944  \n",
      "FG_PCT_away           -0.434866  \n",
      "FT_PCT_away           -0.106305  \n",
      "FG3_PCT_away          -0.288316  \n",
      "AST_away              -0.293454  \n",
      "REB_away              -0.251834  \n",
      "HOME_TEAM_WINS         1.000000  \n"
     ]
    }
   ],
   "source": [
    "corrM = df.corr()\n",
    "print(corrM)"
   ]
  },
  {
   "cell_type": "code",
   "execution_count": 29,
   "metadata": {},
   "outputs": [
    {
     "data": {
      "text/plain": [
       "<AxesSubplot:>"
      ]
     },
     "execution_count": 29,
     "metadata": {},
     "output_type": "execute_result"
    },
    {
     "data": {
      "image/png": "[encoded data removed]",
      "text/plain": [
       "<Figure size 432x288 with 2 Axes>"
      ]
     },
     "metadata": {
      "needs_background": "light"
     },
     "output_type": "display_data"
    }
   ],
   "source": [
    "sns.heatmap(corrM)\n",
    "##plt.show()"
   ]
  }
 ],
 "metadata": {
  "interpreter": {
   "hash": "3980df123be1cb6a82c2f412acd87b3b21fbf79126fb97188a0f6ee3e794d1bc"
  },
  "kernelspec": {
   "display_name": "Python 3.9.10 64-bit (windows store)",
   "language": "python",
   "name": "python3"
  },
  "language_info": {
   "codemirror_mode": {
    "name": "ipython",
    "version": 3
   },
   "file_extension": ".py",
   "mimetype": "text/x-python",
   "name": "python",
   "nbconvert_exporter": "python",
   "pygments_lexer": "ipython3",
   "version": "3.9.10"
  },
  "orig_nbformat": 4
 },
 "nbformat": 4,
 "nbformat_minor": 2
}
